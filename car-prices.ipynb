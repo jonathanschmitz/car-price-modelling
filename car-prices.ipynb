{
 "cells": [
  {
   "cell_type": "code",
   "execution_count": 1,
   "metadata": {
    "autoscroll": false,
    "collapsed": true,
    "ein.tags": "worksheet-0",
    "slideshow": {
     "slide_type": "-"
    }
   },
   "outputs": [],
   "source": [
    "import datetime \n",
    "import math\n",
    "import matplotlib.pyplot as plt\n",
    "import numpy as np\n",
    "import pandas as pd\n",
    "import random\n",
    "import scipy\n",
    "import seaborn as sns\n",
    "%matplotlib inline\n",
    "\n",
    "sns.set_style(\"white\")"
   ]
  },
  {
   "cell_type": "markdown",
   "metadata": {
    "ein.tags": "worksheet-0",
    "slideshow": {
     "slide_type": "-"
    }
   },
   "source": [
    "------------ "
   ]
  },
  {
   "cell_type": "markdown",
   "metadata": {
    "ein.tags": "worksheet-0",
    "slideshow": {
     "slide_type": "-"
    }
   },
   "source": [
    "# Data preparation"
   ]
  },
  {
   "cell_type": "code",
   "execution_count": 2,
   "metadata": {
    "autoscroll": false,
    "collapsed": true,
    "ein.tags": "worksheet-0",
    "slideshow": {
     "slide_type": "-"
    }
   },
   "outputs": [],
   "source": [
    "# read the data\n",
    "cars = pd.read_csv(\"autos.csv\", encoding=\"Latin1\", parse_dates = ['dateCrawled','dateCreated','lastSeen'])"
   ]
  },
  {
   "cell_type": "code",
   "execution_count": 3,
   "metadata": {
    "autoscroll": false,
    "collapsed": true,
    "ein.tags": "worksheet-0",
    "slideshow": {
     "slide_type": "-"
    }
   },
   "outputs": [],
   "source": [
    "# clean the data:\n",
    "# only these values make sense for car age:\n",
    "cars = cars[(cars.yearOfRegistration < 2017) & (cars.yearOfRegistration > 1900)]\n",
    "# we don't want to have non-sensible prices:\n",
    "cars = cars[(cars.price < 500000) & (cars.price > 500)]\n",
    "# only interested in working cars for now:\n",
    "cars = cars[cars.notRepairedDamage != \"ja\"]"
   ]
  },
  {
   "cell_type": "code",
   "execution_count": 4,
   "metadata": {
    "autoscroll": false,
    "collapsed": true,
    "ein.tags": "worksheet-0",
    "slideshow": {
     "slide_type": "-"
    }
   },
   "outputs": [],
   "source": [
    "cars = cars.assign(mileage_cat=[(\"low\", \"medium\", \"med-high\", \"high\")[min(3, int(math.floor(x/50000)))] for x in cars.kilometer])"
   ]
  },
  {
   "cell_type": "code",
   "execution_count": 5,
   "metadata": {
    "autoscroll": false,
    "collapsed": true,
    "ein.tags": "worksheet-0",
    "slideshow": {
     "slide_type": "-"
    }
   },
   "outputs": [],
   "source": [
    "# age is a better feature than year of registration\n",
    "# here we use the number of days since registration\n",
    "cars = cars.assign(age=[datetime.timedelta(seconds=(x.dateCreated.timestamp() - \n",
    "                        (datetime.datetime.strptime(\n",
    "                            str(x.yearOfRegistration) + str(x.monthOfRegistration), \"%Y%M\")).timestamp())).days\n",
    "                        for i, x in cars.iterrows()])"
   ]
  },
  {
   "cell_type": "code",
   "execution_count": 6,
   "metadata": {
    "autoscroll": false,
    "collapsed": true,
    "ein.tags": "worksheet-0",
    "slideshow": {
     "slide_type": "-"
    }
   },
   "outputs": [],
   "source": [
    "# only use cars not registered in the future\n",
    "cars = cars[cars.age > 0]"
   ]
  },
  {
   "cell_type": "code",
   "execution_count": 7,
   "metadata": {
    "autoscroll": false,
    "collapsed": true,
    "ein.tags": "worksheet-0",
    "slideshow": {
     "slide_type": "-"
    }
   },
   "outputs": [],
   "source": [
    "# save the modified csv\n",
    "cars.to_csv(\"autos.mod.csv\")"
   ]
  },
  {
   "cell_type": "code",
   "execution_count": 11,
   "metadata": {
    "autoscroll": false,
    "collapsed": true,
    "ein.tags": "worksheet-0",
    "slideshow": {
     "slide_type": "-"
    }
   },
   "outputs": [],
   "source": [
    "# to start with cleaned & modified data:\n",
    "cars = pd.read_csv(\"autos.mod.csv\")"
   ]
  },
  {
   "cell_type": "code",
   "execution_count": 4,
   "metadata": {
    "autoscroll": false,
    "ein.tags": "worksheet-0",
    "slideshow": {
     "slide_type": "-"
    }
   },
   "outputs": [
    {
     "data": {
      "text/plain": [
       "Angebot    292692\n",
       "Gesuch          3\n",
       "Name: offerType, dtype: int64"
      ]
     },
     "execution_count": 4,
     "metadata": {},
     "output_type": "execute_result"
    }
   ],
   "source": [
    "cars.offerType.value_counts()"
   ]
  },
  {
   "cell_type": "code",
   "execution_count": 10,
   "metadata": {
    "autoscroll": false,
    "ein.tags": "worksheet-0",
    "slideshow": {
     "slide_type": "-"
    }
   },
   "outputs": [
    {
     "data": {
      "text/plain": [
       "<matplotlib.figure.Figure at 0x7f08e80700b8>"
      ]
     },
     "metadata": {},
     "output_type": "display_data"
    },
    {
     "data": {
      "text/plain": [
       "<matplotlib.figure.Figure at 0x7f08e7e9c160>"
      ]
     },
     "metadata": {},
     "output_type": "display_data"
    },
    {
     "data": {
      "text/plain": [
       "(0, 50000)"
      ]
     },
     "execution_count": 10,
     "metadata": {},
     "output_type": "execute_result"
    }
   ],
   "source": [
    "#cars.plot(x=\"yearOfRegistration\", y=\"price\", kind=\"scatter\", ylim=(0, 1000000))\n",
    "plt.figure()\n",
    "sns.lmplot('age', 'price', data=cars, fit_reg=False, hue=\"brand\")\n",
    "plt.xlim(0, 50000)"
   ]
  },
  {
   "cell_type": "code",
   "execution_count": 11,
   "metadata": {
    "autoscroll": false,
    "ein.tags": "worksheet-0",
    "slideshow": {
     "slide_type": "-"
    }
   },
   "outputs": [
    {
     "data": {
      "text/plain": [
       "golf           23435\n",
       "andere         20893\n",
       "3er            17214\n",
       "polo            9131\n",
       "a4              8674\n",
       "passat          8482\n",
       "corsa           8364\n",
       "astra           8094\n",
       "c_klasse        7784\n",
       "5er             7485\n",
       "e_klasse        6562\n",
       "a3              5604\n",
       "a6              5120\n",
       "transporter     4720\n",
       "focus           4708\n",
       "fiesta          4011\n",
       "2_reihe         4004\n",
       "fortwo          3847\n",
       "1er             3511\n",
       "a_klasse        3483\n",
       "Name: model, dtype: int64"
      ]
     },
     "execution_count": 11,
     "metadata": {},
     "output_type": "execute_result"
    }
   ],
   "source": [
    "# most common models\n",
    "cars.model.value_counts()[:20]"
   ]
  },
  {
   "cell_type": "code",
   "execution_count": 46,
   "metadata": {
    "autoscroll": false,
    "ein.tags": "worksheet-0",
    "slideshow": {
     "slide_type": "-"
    }
   },
   "outputs": [
    {
     "data": {
      "text/plain": [
       "LinearRegression(copy_X=True, fit_intercept=True, n_jobs=1, normalize=False)"
      ]
     },
     "execution_count": 46,
     "metadata": {},
     "output_type": "execute_result"
    }
   ],
   "source": [
    "# get general depreciation\n",
    "from sklearn import linear_model\n",
    "clf = linear_model.LinearRegression()\n",
    "clf.fit(cars.loc[:, (\"kilometer\", \"yearOfRegistration\")], y=cars.price)"
   ]
  },
  {
   "cell_type": "code",
   "execution_count": 47,
   "metadata": {
    "autoscroll": false,
    "ein.tags": "worksheet-0",
    "slideshow": {
     "slide_type": "-"
    }
   },
   "outputs": [
    {
     "data": {
      "text/plain": [
       "array([ -8.10373297e-02,   2.49144470e+02])"
      ]
     },
     "execution_count": 47,
     "metadata": {},
     "output_type": "execute_result"
    }
   ],
   "source": [
    "clf.coef_"
   ]
  },
  {
   "cell_type": "code",
   "execution_count": null,
   "metadata": {
    "autoscroll": false,
    "collapsed": true,
    "ein.tags": "worksheet-0",
    "slideshow": {
     "slide_type": "-"
    }
   },
   "outputs": [],
   "source": [
    "# compare depreciation per model"
   ]
  },
  {
   "cell_type": "code",
   "execution_count": 13,
   "metadata": {
    "autoscroll": false,
    "ein.tags": "worksheet-0",
    "slideshow": {
     "slide_type": "-"
    }
   },
   "outputs": [
    {
     "data": {
      "text/plain": [
       "<matplotlib.figure.Figure at 0x7f08f25e4cc0>"
      ]
     },
     "metadata": {},
     "output_type": "display_data"
    },
    {
     "data": {
      "text/plain": [
       "<matplotlib.axes._subplots.AxesSubplot at 0x7f08f25ef6d8>"
      ]
     },
     "execution_count": 13,
     "metadata": {},
     "output_type": "execute_result"
    }
   ],
   "source": [
    "cars.yearOfRegistration.hist()"
   ]
  },
  {
   "cell_type": "code",
   "execution_count": 109,
   "metadata": {
    "autoscroll": false,
    "ein.tags": "worksheet-0",
    "slideshow": {
     "slide_type": "-"
    }
   },
   "outputs": [
    {
     "data": {
      "text/plain": [
       "<seaborn.axisgrid.FacetGrid at 0x7f2d419abe10>"
      ]
     },
     "execution_count": 109,
     "metadata": {},
     "output_type": "execute_result"
    },
    {
     "data": {
      "image/png": "[encoded data removed]",
      "text/plain": [
       "<matplotlib.figure.Figure at 0x7f2d41a41828>"
      ]
     },
     "metadata": {},
     "output_type": "display_data"
    }
   ],
   "source": [
    "\n",
    "sns.lmplot('yearOfRegistration', 'price', data=cars[cars.model==\"golf\"], fit_reg=False, hue=\"mileage_cat\")"
   ]
  },
  {
   "cell_type": "code",
   "execution_count": 15,
   "metadata": {
    "autoscroll": false,
    "ein.tags": "worksheet-0",
    "slideshow": {
     "slide_type": "-"
    }
   },
   "outputs": [
    {
     "data": {
      "text/plain": [
       "<matplotlib.figure.Figure at 0x7f08ef566860>"
      ]
     },
     "metadata": {},
     "output_type": "display_data"
    },
    {
     "data": {
      "text/plain": [
       "<seaborn.axisgrid.FacetGrid at 0x7f08efbd0d68>"
      ]
     },
     "execution_count": 15,
     "metadata": {},
     "output_type": "execute_result"
    }
   ],
   "source": [
    "\n",
    "sns.lmplot('yearOfRegistration', 'price', data=cars[cars.model==\"1er\"], fit_reg=False, hue=\"mileage_cat\")"
   ]
  },
  {
   "cell_type": "code",
   "execution_count": 16,
   "metadata": {
    "autoscroll": false,
    "ein.tags": "worksheet-0",
    "slideshow": {
     "slide_type": "-"
    }
   },
   "outputs": [
    {
     "data": {
      "text/plain": [
       "<matplotlib.figure.Figure at 0x7f08ef162c50>"
      ]
     },
     "metadata": {},
     "output_type": "display_data"
    },
    {
     "data": {
      "text/plain": [
       "<seaborn.axisgrid.FacetGrid at 0x7f08ef162d68>"
      ]
     },
     "execution_count": 16,
     "metadata": {},
     "output_type": "execute_result"
    }
   ],
   "source": [
    "sns.lmplot('yearOfRegistration', 'price', data=cars[cars.model==\"3er\"], fit_reg=False, hue=\"mileage_cat\")"
   ]
  },
  {
   "cell_type": "code",
   "execution_count": 17,
   "metadata": {
    "autoscroll": false,
    "ein.tags": "worksheet-0",
    "slideshow": {
     "slide_type": "-"
    }
   },
   "outputs": [
    {
     "data": {
      "text/plain": [
       "<matplotlib.figure.Figure at 0x7f08ef55d5f8>"
      ]
     },
     "metadata": {},
     "output_type": "display_data"
    },
    {
     "data": {
      "text/plain": [
       "<matplotlib.axes._subplots.AxesSubplot at 0x7f08f29f8668>"
      ]
     },
     "execution_count": 17,
     "metadata": {},
     "output_type": "execute_result"
    }
   ],
   "source": [
    "sns.countplot(x=\"yearOfRegistration\", hue=\"mileage_cat\", data=cars[cars.model==\"3er\"])"
   ]
  },
  {
   "cell_type": "code",
   "execution_count": 69,
   "metadata": {
    "autoscroll": false,
    "collapsed": true,
    "ein.tags": "worksheet-0",
    "slideshow": {
     "slide_type": "-"
    }
   },
   "outputs": [],
   "source": [
    "# write function for fit parameters for one model\n",
    "# run function for all models > 100 entries\n",
    "# test accuracy for each\n",
    "# see how good my accuracy is, maybe also depending on input data"
   ]
  },
  {
   "cell_type": "code",
   "execution_count": 4,
   "metadata": {
    "autoscroll": false,
    "collapsed": true,
    "ein.tags": "worksheet-0",
    "slideshow": {
     "slide_type": "-"
    }
   },
   "outputs": [],
   "source": [
    "def randomize(x, y, length):\n",
    "    random_indices = list(range(length))\n",
    "    random.shuffle(random_indices)\n",
    "    x = x[random_indices]\n",
    "    y = y[random_indices]\n",
    "    return x, y\n",
    "\n",
    "\n",
    "def calc_grad(x, y, theta, lamb=0):\n",
    "    #import pdb; pdb.set_trace()\n",
    "    cor_theta = theta.copy()\n",
    "    m = x.shape[0]  # number of training examples\n",
    "    h = np.dot(x, theta)  # predicted y values\n",
    "    cor_theta[0] = 0  # theta_0 does not count for regularization\n",
    "    grad = np.dot(x.T, (np.subtract(h, y))).T/m + (lamb/m) * cor_theta\n",
    "    if len(grad.shape) > 1:\n",
    "        grad = grad[0]\n",
    "    return grad\n",
    "\n",
    "\n",
    "def cost(x, y, theta, lamb=0):\n",
    "    #import pdb; pdb.set_trace()\n",
    "    cor_theta = theta.copy()\n",
    "    m = x.shape[0]  # number of training examples\n",
    "    h = np.dot(x, theta)  # predicted y values\n",
    "    cor_theta[0] = 0  # theta_0 does not count for regularization\n",
    "    j = np.sum((np.subtract(h, y) ** 2))/(2*m) + (lamb/(2*m)) * sum(cor_theta**2)\n",
    "    return j\n",
    "    \n",
    "\n",
    "def normal_equation(train_x, train_y, lamb):\n",
    "    # normal equation\n",
    "    reg = np.zeros((train_x.shape[1], train_x.shape[1]))\n",
    "    np.fill_diagonal(reg, 1)\n",
    "    reg[0, 0] = 0\n",
    "    reg = lamb * reg\n",
    "    theta = np.dot(np.dot(np.linalg.pinv(np.dot(train_x.T, train_x) + reg),\n",
    "                          train_x.T), train_y)\n",
    "    return theta\n",
    "\n",
    "                  \n",
    "def gradient_descent(x, y, lamb):\n",
    "    initial_theta = np.ones(x.shape[1]) * 0.1\n",
    "    cf = lambda t: cost(x, y, t, lamb)\n",
    "    cf_grad = lambda t: calc_grad(x, y, t, lamb)\n",
    "    theta = scipy.optimize.fmin_cg(cf, initial_theta, cf_grad)\n",
    "    return theta\n",
    "                  \n",
    "\n",
    "def train_parameters(train_x, train_y, cv_x, cv_y):\n",
    "    # choose lambda\n",
    "    lambdas = [0, 0.001, 0.003, 0.01, 0.03, 0.1, 0.3, 1, 3, 10]\n",
    "    train_errors, cv_errors = [], []\n",
    "    # train = normal_equation if train_x.shape[1] < 1000 else gradient_descent\n",
    "    train = gradient_descent\n",
    "    for lamb in lambdas:\n",
    "        theta = train(train_x, train_y, lamb)\n",
    "        train_error = cost(train_x, train_y, theta)\n",
    "        train_errors.append(train_error)\n",
    "        cv_error = cost(cv_x, cv_y, theta)\n",
    "        cv_errors.append(cv_error)\n",
    "    print(train_errors)\n",
    "    print(cv_errors)\n",
    "\n",
    "\n",
    "def learning_curve(train_x, train_y, cv_x, cv_y, lamb=0):\n",
    "    \"\"\"Plot learning curve -> change in training & cv error\"\"\"\n",
    "    train_errors, cv_errors = [], []\n",
    "    #train = normal_equation if train_x.shape[1] < 1000 else gradient_descent\n",
    "    train = gradient_descent\n",
    "    for n in range(1 if len(train_x) < 20 else len(train_x)// 20,\n",
    "                   len(train_x),\n",
    "                   len(train_x)//20 if len(train_x) > 20 else 1):\n",
    "        theta = train(train_x[:n], train_y[:n], lamb)\n",
    "        train_error = cost(train_x[:n], train_y[:n], theta)\n",
    "        train_errors.append(train_error)\n",
    "        cv_error = cost(cv_x, cv_y, theta)\n",
    "        cv_errors.append(cv_error)\n",
    "    plt.figure()\n",
    "    plt.plot(train_errors)\n",
    "    plt.plot(cv_errors)\n",
    "    plt.legend((\"train\", \"cv\"))\n",
    "\n",
    "\n",
    "def scale(x):\n",
    "    #import pdb; pdb.set_trace()\n",
    "    mu = x.mean(axis=0)\n",
    "    x = x - mu\n",
    "    sigma = x.std(axis=0)\n",
    "    x = x/sigma\n",
    "    return x, mu, sigma\n",
    "\n",
    "def add_polynoms(x):\n",
    "    #import pdb; pdb.set_trace()\n",
    "    old_x = x.copy()\n",
    "    for i in [0.5, 2, 3]:\n",
    "        x = np.append(x, old_x**i, axis=1)\n",
    "    return x\n",
    "\n",
    "\n",
    "def fit_params(x, y):\n",
    "    \"\"\"Fit a linear regression to predict response vector y from feature matrix x.\n",
    "    \"\"\"\n",
    "    x, y = np.array(x), np.array(y)\n",
    "    # add polymonial features\n",
    "    # feature scaling\n",
    "    x, mu, s = scale(x)\n",
    "    #x = add_polynoms(x)\n",
    "    # first: randomize order\n",
    "    len_x, len_y = x.shape[0], y.shape[0]\n",
    "    x = np.insert(x, 0, 1, axis=1)\n",
    "    if len_x != len_y:\n",
    "        raise ValueError(\"Error: features x and response y have different lengths\")\n",
    "    x, y = randomize(x, y, len_x)\n",
    "    # second: separate into training, cv, and test set\n",
    "    div1, div2 = math.floor(len_x * 0.6), math.floor(len_x * 0.8)\n",
    "    train_x, train_y = x[:div1], y[:div1]\n",
    "    cv_x, cv_y = x[div1:div2], y[div1:div2]\n",
    "    test_x, test_y = x[div2:], y[div2:]\n",
    "    learning_curve(train_x, train_y, cv_x, cv_y)\n",
    "    theta = train_parameters(train_x, train_y, cv_x, cv_y)\n"
   ]
  },
  {
   "cell_type": "code",
   "execution_count": 48,
   "metadata": {
    "autoscroll": false,
    "ein.tags": "worksheet-0",
    "slideshow": {
     "slide_type": "-"
    }
   },
   "outputs": [
    {
     "data": {
      "image/png": "[encoded data removed]",
      "text/plain": [
       "<matplotlib.figure.Figure at 0x7f3e4750d668>"
      ]
     },
     "metadata": {},
     "output_type": "display_data"
    },
    {
     "data": {
      "image/png": "[encoded data removed]",
      "text/plain": [
       "<matplotlib.figure.Figure at 0x7f3e472bab70>"
      ]
     },
     "metadata": {},
     "output_type": "display_data"
    }
   ],
   "source": [
    "# try to fit model\n",
    "import main\n",
    "import importlib\n",
    "importlib.reload(main)\n",
    "main.fit_params(cars[cars.model==\"golf\"].loc[:, (\"powerPS\", \"kilometer\", \"age\")], cars.price[cars.model==\"golf\"])"
   ]
  },
  {
   "cell_type": "code",
   "execution_count": 13,
   "metadata": {},
   "outputs": [
    {
     "name": "stdout",
     "output_type": "stream",
     "text": [
      "[9098398.3775719255, 9098398.3988635354, 9098398.5687961429, 9098400.4868305102, 9098416.9718291946, 9098590.8619194534, 9099832.379682716, 9107643.3115832768, 9128716.580684524, 9171559.1681712363]\n",
      "[33883438.350964755, 33883513.407945976, 33883663.297886319, 33884185.572185993, 33885658.010674044, 33890591.546619922, 33903040.524464712, 33933652.81191057, 33975171.015049942, 34027842.543601006]\n"
     ]
    }
   ],
   "source": [
    "fit_params(cars[cars.model==\"3er\"].loc[:, (\"powerPS\", \"kilometer\", \"age\")], cars.price[cars.model==\"3er\"])"
   ]
  },
  {
   "cell_type": "code",
   "execution_count": 31,
   "metadata": {},
   "outputs": [],
   "source": [
    "plt.xticks?"
   ]
  },
  {
   "cell_type": "code",
   "execution_count": 5,
   "metadata": {
    "autoscroll": false,
    "ein.tags": "worksheet-0",
    "slideshow": {
     "slide_type": "-"
    }
   },
   "outputs": [
    {
     "ename": "ValueError",
     "evalue": "shapes (47,3) and (2,) not aligned: 3 (dim 1) != 2 (dim 0)",
     "output_type": "error",
     "traceback": [
      "\u001b[0;31m---------------------------------------------------------------------------\u001b[0m",
      "\u001b[0;31mValueError\u001b[0m                                Traceback (most recent call last)",
      "\u001b[0;32m<ipython-input-5-e1aba40009d4>\u001b[0m in \u001b[0;36m<module>\u001b[0;34m()\u001b[0m\n\u001b[1;32m      8\u001b[0m \u001b[0;34m\u001b[0m\u001b[0m\n\u001b[1;32m      9\u001b[0m \u001b[0;31m# test cost function\u001b[0m\u001b[0;34m\u001b[0m\u001b[0;34m\u001b[0m\u001b[0m\n\u001b[0;32m---> 10\u001b[0;31m \u001b[0mprint\u001b[0m\u001b[0;34m(\u001b[0m\u001b[0mcost\u001b[0m\u001b[0;34m(\u001b[0m\u001b[0mx\u001b[0m\u001b[0;34m,\u001b[0m \u001b[0my\u001b[0m\u001b[0;34m,\u001b[0m \u001b[0mnp\u001b[0m\u001b[0;34m.\u001b[0m\u001b[0marray\u001b[0m\u001b[0;34m(\u001b[0m\u001b[0;34m[\u001b[0m\u001b[0;36m1\u001b[0m\u001b[0;34m,\u001b[0m \u001b[0;36m1\u001b[0m\u001b[0;34m]\u001b[0m\u001b[0;34m)\u001b[0m\u001b[0;34m)\u001b[0m\u001b[0;34m)\u001b[0m\u001b[0;34m\u001b[0m\u001b[0m\n\u001b[0m\u001b[1;32m     11\u001b[0m \u001b[0;34m\u001b[0m\u001b[0m\n\u001b[1;32m     12\u001b[0m \u001b[0;31m# test unregularized gradient descent:\u001b[0m\u001b[0;34m\u001b[0m\u001b[0;34m\u001b[0m\u001b[0m\n",
      "\u001b[0;32m<ipython-input-4-114182128e23>\u001b[0m in \u001b[0;36mcost\u001b[0;34m(x, y, theta, lamb)\u001b[0m\n\u001b[1;32m     23\u001b[0m     \u001b[0mcor_theta\u001b[0m \u001b[0;34m=\u001b[0m \u001b[0mtheta\u001b[0m\u001b[0;34m.\u001b[0m\u001b[0mcopy\u001b[0m\u001b[0;34m(\u001b[0m\u001b[0;34m)\u001b[0m\u001b[0;34m\u001b[0m\u001b[0m\n\u001b[1;32m     24\u001b[0m     \u001b[0mm\u001b[0m \u001b[0;34m=\u001b[0m \u001b[0mx\u001b[0m\u001b[0;34m.\u001b[0m\u001b[0mshape\u001b[0m\u001b[0;34m[\u001b[0m\u001b[0;36m0\u001b[0m\u001b[0;34m]\u001b[0m  \u001b[0;31m# number of training examples\u001b[0m\u001b[0;34m\u001b[0m\u001b[0m\n\u001b[0;32m---> 25\u001b[0;31m     \u001b[0mh\u001b[0m \u001b[0;34m=\u001b[0m \u001b[0mnp\u001b[0m\u001b[0;34m.\u001b[0m\u001b[0mdot\u001b[0m\u001b[0;34m(\u001b[0m\u001b[0mx\u001b[0m\u001b[0;34m,\u001b[0m \u001b[0mtheta\u001b[0m\u001b[0;34m)\u001b[0m  \u001b[0;31m# predicted y values\u001b[0m\u001b[0;34m\u001b[0m\u001b[0m\n\u001b[0m\u001b[1;32m     26\u001b[0m     \u001b[0mcor_theta\u001b[0m\u001b[0;34m[\u001b[0m\u001b[0;36m0\u001b[0m\u001b[0;34m]\u001b[0m \u001b[0;34m=\u001b[0m \u001b[0;36m0\u001b[0m  \u001b[0;31m# theta_0 does not count for regularization\u001b[0m\u001b[0;34m\u001b[0m\u001b[0m\n\u001b[1;32m     27\u001b[0m     \u001b[0mj\u001b[0m \u001b[0;34m=\u001b[0m \u001b[0mnp\u001b[0m\u001b[0;34m.\u001b[0m\u001b[0msum\u001b[0m\u001b[0;34m(\u001b[0m\u001b[0;34m(\u001b[0m\u001b[0mnp\u001b[0m\u001b[0;34m.\u001b[0m\u001b[0msubtract\u001b[0m\u001b[0;34m(\u001b[0m\u001b[0mh\u001b[0m\u001b[0;34m,\u001b[0m \u001b[0my\u001b[0m\u001b[0;34m)\u001b[0m \u001b[0;34m**\u001b[0m \u001b[0;36m2\u001b[0m\u001b[0;34m)\u001b[0m\u001b[0;34m)\u001b[0m\u001b[0;34m/\u001b[0m\u001b[0;34m(\u001b[0m\u001b[0;36m2\u001b[0m\u001b[0;34m*\u001b[0m\u001b[0mm\u001b[0m\u001b[0;34m)\u001b[0m \u001b[0;34m+\u001b[0m \u001b[0;34m(\u001b[0m\u001b[0mlamb\u001b[0m\u001b[0;34m/\u001b[0m\u001b[0;34m(\u001b[0m\u001b[0;36m2\u001b[0m\u001b[0;34m*\u001b[0m\u001b[0mm\u001b[0m\u001b[0;34m)\u001b[0m\u001b[0;34m)\u001b[0m \u001b[0;34m*\u001b[0m \u001b[0msum\u001b[0m\u001b[0;34m(\u001b[0m\u001b[0mcor_theta\u001b[0m\u001b[0;34m**\u001b[0m\u001b[0;36m2\u001b[0m\u001b[0;34m)\u001b[0m\u001b[0;34m\u001b[0m\u001b[0m\n",
      "\u001b[0;31mValueError\u001b[0m: shapes (47,3) and (2,) not aligned: 3 (dim 1) != 2 (dim 0)"
     ]
    }
   ],
   "source": [
    "# test functions using old stuff\n",
    "df = pd.read_csv('/home/john/Dokumente/ml-course/ex1/ex1data2.txt', header=None)\n",
    "x = df.loc[:, (0, 1)]\n",
    "y = df.loc[:, (2)]\n",
    "x, mu, s = scale(x)\n",
    "x = x.as_matrix()\n",
    "x = np.insert(x, 0, 1, axis=1)\n",
    "\n",
    "# test unregularized gradient descent:\n",
    "assert np.sum(gradient_descent(x, y, 0) - np.array([ 340412.65957447,  110631.0502789 ,   -6649.47427087])) < 0.00001\n",
    "assert np.sum(normal_equation(x, y, 0) - np.array([ 340412.65957447,  110631.0502789 ,   -6649.47427087])) < 0.00001"
   ]
  },
  {
   "cell_type": "code",
   "execution_count": 8,
   "metadata": {
    "autoscroll": false,
    "ein.tags": "worksheet-0",
    "slideshow": {
     "slide_type": "-"
    }
   },
   "outputs": [
    {
     "name": "stdout",
     "output_type": "stream",
     "text": [
      "334.723100006\n"
     ]
    }
   ],
   "source": [
    "# test functions using old stuff\n",
    "import scipy.io as sio\n",
    "d = sio.loadmat('/home/john/Dokumente/ml-course/ex5/ex5data1.mat')\n",
    "X = np.insert(d[\"X\"], 0, 1, axis=1)\n",
    "Xval = np.insert(d[\"Xval\"], 0, 1, axis=1)\n",
    "Xtest = np.insert(d[\"Xtest\"], 0, 1, axis=1)\n",
    "#cost(X, d[\"y\"].ravel(), np.array([1, 1]), 1)\n",
    "#calc_grad(X, d[\"y\"].ravel(), np.array([1, 1]))\n",
    "#learning_curve(X, d[\"y\"].ravel(), Xval, d[\"yval\"].ravel())\n",
    "x = np.vstack([X, Xval, Xtest])[:,1]\n",
    "y = np.vstack([d[\"y\"], d[\"yval\"], d[\"ytest\"]]).ravel()\n",
    "\n",
    "# test cost function\n",
    "print(cost(np.vstack([X, Xval, Xtest]), y, np.array([1, 1])))\n",
    "\n",
    "#fit_params(pd.DataFrame(x), pd.DataFrame(y))"
   ]
  },
  {
   "cell_type": "code",
   "execution_count": null,
   "metadata": {
    "collapsed": true
   },
   "outputs": [],
   "source": [
    "d = sio.loadmat('/home/john/Dokumente/ml-course/ex1/ex1data1.mat')"
   ]
  }
 ],
 "metadata": {
  "kernelspec": {
   "display_name": "Python 3",
   "language": "python",
   "name": "python3"
  },
  "language_info": {
   "codemirror_mode": {
    "name": "ipython",
    "version": 3
   },
   "file_extension": ".py",
   "mimetype": "text/x-python",
   "name": "python",
   "nbconvert_exporter": "python",
   "pygments_lexer": "ipython3",
   "version": "3.6.1"
  },
  "name": "car-prices.ipynb"
 },
 "nbformat": 4,
 "nbformat_minor": 2
}

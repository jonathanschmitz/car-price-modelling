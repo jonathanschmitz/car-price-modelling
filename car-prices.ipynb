{
 "cells": [
  {
   "cell_type": "code",
   "execution_count": 38,
   "metadata": {
    "autoscroll": false,
    "collapsed": true,
    "ein.tags": "worksheet-0",
    "slideshow": {
     "slide_type": "-"
    }
   },
   "outputs": [],
   "source": [
    "import datetime \n",
    "import math\n",
    "import matplotlib.pyplot as plt\n",
    "import numpy as np\n",
    "import pandas as pd\n",
    "import random\n",
    "import scipy\n",
    "import seaborn as sns\n",
    "%matplotlib inline\n",
    "\n",
    "sns.set_style(\"white\")"
   ]
  },
  {
   "cell_type": "markdown",
   "metadata": {
    "ein.tags": "worksheet-0",
    "slideshow": {
     "slide_type": "-"
    }
   },
   "source": [
    "------------ "
   ]
  },
  {
   "cell_type": "markdown",
   "metadata": {
    "ein.tags": "worksheet-0",
    "slideshow": {
     "slide_type": "-"
    }
   },
   "source": [
    "# Data preparation"
   ]
  },
  {
   "cell_type": "code",
   "execution_count": 2,
   "metadata": {
    "autoscroll": false,
    "collapsed": true,
    "ein.tags": "worksheet-0",
    "slideshow": {
     "slide_type": "-"
    }
   },
   "outputs": [],
   "source": [
    "# read the data\n",
    "cars = pd.read_csv(\"autos.csv\", encoding=\"Latin1\", parse_dates = ['dateCrawled','dateCreated','lastSeen'])"
   ]
  },
  {
   "cell_type": "code",
   "execution_count": 3,
   "metadata": {
    "autoscroll": false,
    "collapsed": true,
    "ein.tags": "worksheet-0",
    "slideshow": {
     "slide_type": "-"
    }
   },
   "outputs": [],
   "source": [
    "# clean the data:\n",
    "# only these values make sense for car age:\n",
    "cars = cars[(cars.yearOfRegistration < 2017) & (cars.yearOfRegistration > 1900)]\n",
    "# we don't want to have non-sensible prices:\n",
    "cars = cars[(cars.price < 500000) & (cars.price > 500)]\n",
    "# only interested in working cars for now:\n",
    "cars = cars[cars.notRepairedDamage != \"ja\"]"
   ]
  },
  {
   "cell_type": "code",
   "execution_count": 4,
   "metadata": {
    "autoscroll": false,
    "collapsed": true,
    "ein.tags": "worksheet-0",
    "slideshow": {
     "slide_type": "-"
    }
   },
   "outputs": [],
   "source": [
    "cars = cars.assign(mileage_cat=[(\"low\", \"medium\", \"med-high\", \"high\")[min(3, int(math.floor(x/50000)))] for x in cars.kilometer])"
   ]
  },
  {
   "cell_type": "code",
   "execution_count": 5,
   "metadata": {
    "autoscroll": false,
    "collapsed": true,
    "ein.tags": "worksheet-0",
    "slideshow": {
     "slide_type": "-"
    }
   },
   "outputs": [],
   "source": [
    "# age is a better feature than year of registration\n",
    "# here we use the number of days since registration\n",
    "cars = cars.assign(age=[datetime.timedelta(seconds=(x.dateCreated.timestamp() - \n",
    "                        (datetime.datetime.strptime(\n",
    "                            str(x.yearOfRegistration) + str(x.monthOfRegistration), \"%Y%M\")).timestamp())).days\n",
    "                        for i, x in cars.iterrows()])"
   ]
  },
  {
   "cell_type": "code",
   "execution_count": 6,
   "metadata": {
    "autoscroll": false,
    "collapsed": true,
    "ein.tags": "worksheet-0",
    "slideshow": {
     "slide_type": "-"
    }
   },
   "outputs": [],
   "source": [
    "# only use cars not registered in the future\n",
    "cars = cars[cars.age > 0]"
   ]
  },
  {
   "cell_type": "code",
   "execution_count": 7,
   "metadata": {
    "autoscroll": false,
    "collapsed": true,
    "ein.tags": "worksheet-0",
    "slideshow": {
     "slide_type": "-"
    }
   },
   "outputs": [],
   "source": [
    "# save the modified csv\n",
    "cars.to_csv(\"autos.mod.csv\")"
   ]
  },
  {
   "cell_type": "code",
   "execution_count": 2,
   "metadata": {
    "autoscroll": false,
    "collapsed": true,
    "ein.tags": "worksheet-0",
    "slideshow": {
     "slide_type": "-"
    }
   },
   "outputs": [],
   "source": [
    "# to start with cleaned & modified data:\n",
    "cars = pd.read_csv(\"autos.mod.csv\")"
   ]
  },
  {
   "cell_type": "code",
   "execution_count": 4,
   "metadata": {
    "autoscroll": false,
    "ein.tags": "worksheet-0",
    "slideshow": {
     "slide_type": "-"
    }
   },
   "outputs": [
    {
     "data": {
      "text/plain": [
       "Angebot    292692\n",
       "Gesuch          3\n",
       "Name: offerType, dtype: int64"
      ]
     },
     "execution_count": 4,
     "metadata": {},
     "output_type": "execute_result"
    }
   ],
   "source": [
    "cars.offerType.value_counts()"
   ]
  },
  {
   "cell_type": "code",
   "execution_count": 10,
   "metadata": {
    "autoscroll": false,
    "ein.tags": "worksheet-0",
    "slideshow": {
     "slide_type": "-"
    }
   },
   "outputs": [
    {
     "data": {
      "text/plain": [
       "<matplotlib.figure.Figure at 0x7f08e80700b8>"
      ]
     },
     "metadata": {},
     "output_type": "display_data"
    },
    {
     "data": {
      "text/plain": [
       "<matplotlib.figure.Figure at 0x7f08e7e9c160>"
      ]
     },
     "metadata": {},
     "output_type": "display_data"
    },
    {
     "data": {
      "text/plain": [
       "(0, 50000)"
      ]
     },
     "execution_count": 10,
     "metadata": {},
     "output_type": "execute_result"
    }
   ],
   "source": [
    "#cars.plot(x=\"yearOfRegistration\", y=\"price\", kind=\"scatter\", ylim=(0, 1000000))\n",
    "plt.figure()\n",
    "sns.lmplot('age', 'price', data=cars, fit_reg=False, hue=\"brand\")\n",
    "plt.xlim(0, 50000)"
   ]
  },
  {
   "cell_type": "code",
   "execution_count": 11,
   "metadata": {
    "autoscroll": false,
    "ein.tags": "worksheet-0",
    "slideshow": {
     "slide_type": "-"
    }
   },
   "outputs": [
    {
     "data": {
      "text/plain": [
       "golf           23435\n",
       "andere         20893\n",
       "3er            17214\n",
       "polo            9131\n",
       "a4              8674\n",
       "passat          8482\n",
       "corsa           8364\n",
       "astra           8094\n",
       "c_klasse        7784\n",
       "5er             7485\n",
       "e_klasse        6562\n",
       "a3              5604\n",
       "a6              5120\n",
       "transporter     4720\n",
       "focus           4708\n",
       "fiesta          4011\n",
       "2_reihe         4004\n",
       "fortwo          3847\n",
       "1er             3511\n",
       "a_klasse        3483\n",
       "Name: model, dtype: int64"
      ]
     },
     "execution_count": 11,
     "metadata": {},
     "output_type": "execute_result"
    }
   ],
   "source": [
    "# most common models\n",
    "cars.model.value_counts()[:20]"
   ]
  },
  {
   "cell_type": "code",
   "execution_count": 46,
   "metadata": {
    "autoscroll": false,
    "ein.tags": "worksheet-0",
    "slideshow": {
     "slide_type": "-"
    }
   },
   "outputs": [
    {
     "data": {
      "text/plain": [
       "LinearRegression(copy_X=True, fit_intercept=True, n_jobs=1, normalize=False)"
      ]
     },
     "execution_count": 46,
     "metadata": {},
     "output_type": "execute_result"
    }
   ],
   "source": [
    "# get general depreciation\n",
    "from sklearn import linear_model\n",
    "clf = linear_model.LinearRegression()\n",
    "clf.fit(cars.loc[:, (\"kilometer\", \"yearOfRegistration\")], y=cars.price)"
   ]
  },
  {
   "cell_type": "code",
   "execution_count": 47,
   "metadata": {
    "autoscroll": false,
    "ein.tags": "worksheet-0",
    "slideshow": {
     "slide_type": "-"
    }
   },
   "outputs": [
    {
     "data": {
      "text/plain": [
       "array([ -8.10373297e-02,   2.49144470e+02])"
      ]
     },
     "execution_count": 47,
     "metadata": {},
     "output_type": "execute_result"
    }
   ],
   "source": [
    "clf.coef_"
   ]
  },
  {
   "cell_type": "code",
   "execution_count": null,
   "metadata": {
    "autoscroll": false,
    "collapsed": true,
    "ein.tags": "worksheet-0",
    "slideshow": {
     "slide_type": "-"
    }
   },
   "outputs": [],
   "source": [
    "# compare depreciation per model"
   ]
  },
  {
   "cell_type": "code",
   "execution_count": 13,
   "metadata": {
    "autoscroll": false,
    "ein.tags": "worksheet-0",
    "slideshow": {
     "slide_type": "-"
    }
   },
   "outputs": [
    {
     "data": {
      "text/plain": [
       "<matplotlib.figure.Figure at 0x7f08f25e4cc0>"
      ]
     },
     "metadata": {},
     "output_type": "display_data"
    },
    {
     "data": {
      "text/plain": [
       "<matplotlib.axes._subplots.AxesSubplot at 0x7f08f25ef6d8>"
      ]
     },
     "execution_count": 13,
     "metadata": {},
     "output_type": "execute_result"
    }
   ],
   "source": [
    "cars.yearOfRegistration.hist()"
   ]
  },
  {
   "cell_type": "code",
   "execution_count": 109,
   "metadata": {
    "autoscroll": false,
    "ein.tags": "worksheet-0",
    "slideshow": {
     "slide_type": "-"
    }
   },
   "outputs": [
    {
     "data": {
      "text/plain": [
       "<seaborn.axisgrid.FacetGrid at 0x7f2d419abe10>"
      ]
     },
     "execution_count": 109,
     "metadata": {},
     "output_type": "execute_result"
    },
    {
     "data": {
      "image/png": "[encoded data removed]",
      "text/plain": [
       "<matplotlib.figure.Figure at 0x7f2d41a41828>"
      ]
     },
     "metadata": {},
     "output_type": "display_data"
    }
   ],
   "source": [
    "\n",
    "sns.lmplot('yearOfRegistration', 'price', data=cars[cars.model==\"golf\"], fit_reg=False, hue=\"mileage_cat\")"
   ]
  },
  {
   "cell_type": "code",
   "execution_count": 15,
   "metadata": {
    "autoscroll": false,
    "ein.tags": "worksheet-0",
    "slideshow": {
     "slide_type": "-"
    }
   },
   "outputs": [
    {
     "data": {
      "text/plain": [
       "<matplotlib.figure.Figure at 0x7f08ef566860>"
      ]
     },
     "metadata": {},
     "output_type": "display_data"
    },
    {
     "data": {
      "text/plain": [
       "<seaborn.axisgrid.FacetGrid at 0x7f08efbd0d68>"
      ]
     },
     "execution_count": 15,
     "metadata": {},
     "output_type": "execute_result"
    }
   ],
   "source": [
    "\n",
    "sns.lmplot('yearOfRegistration', 'price', data=cars[cars.model==\"1er\"], fit_reg=False, hue=\"mileage_cat\")"
   ]
  },
  {
   "cell_type": "code",
   "execution_count": 16,
   "metadata": {
    "autoscroll": false,
    "ein.tags": "worksheet-0",
    "slideshow": {
     "slide_type": "-"
    }
   },
   "outputs": [
    {
     "data": {
      "text/plain": [
       "<matplotlib.figure.Figure at 0x7f08ef162c50>"
      ]
     },
     "metadata": {},
     "output_type": "display_data"
    },
    {
     "data": {
      "text/plain": [
       "<seaborn.axisgrid.FacetGrid at 0x7f08ef162d68>"
      ]
     },
     "execution_count": 16,
     "metadata": {},
     "output_type": "execute_result"
    }
   ],
   "source": [
    "sns.lmplot('yearOfRegistration', 'price', data=cars[cars.model==\"3er\"], fit_reg=False, hue=\"mileage_cat\")"
   ]
  },
  {
   "cell_type": "code",
   "execution_count": 17,
   "metadata": {
    "autoscroll": false,
    "ein.tags": "worksheet-0",
    "slideshow": {
     "slide_type": "-"
    }
   },
   "outputs": [
    {
     "data": {
      "text/plain": [
       "<matplotlib.figure.Figure at 0x7f08ef55d5f8>"
      ]
     },
     "metadata": {},
     "output_type": "display_data"
    },
    {
     "data": {
      "text/plain": [
       "<matplotlib.axes._subplots.AxesSubplot at 0x7f08f29f8668>"
      ]
     },
     "execution_count": 17,
     "metadata": {},
     "output_type": "execute_result"
    }
   ],
   "source": [
    "sns.countplot(x=\"yearOfRegistration\", hue=\"mileage_cat\", data=cars[cars.model==\"3er\"])"
   ]
  },
  {
   "cell_type": "code",
   "execution_count": 69,
   "metadata": {
    "autoscroll": false,
    "collapsed": true,
    "ein.tags": "worksheet-0",
    "slideshow": {
     "slide_type": "-"
    }
   },
   "outputs": [],
   "source": [
    "# write function for fit parameters for one model\n",
    "# run function for all models > 100 entries\n",
    "# test accuracy for each\n",
    "# see how good my accuracy is, maybe also depending on input data"
   ]
  },
  {
   "cell_type": "code",
   "execution_count": 102,
   "metadata": {
    "autoscroll": false,
    "collapsed": true,
    "ein.tags": "worksheet-0",
    "slideshow": {
     "slide_type": "-"
    }
   },
   "outputs": [],
   "source": [
    "def randomize(x, y, length):\n",
    "    random_indices = list(range(length))\n",
    "    random.shuffle(random_indices)\n",
    "    x = x[random_indices]\n",
    "    y = y[random_indices]\n",
    "    return x, y\n",
    "\n",
    "\n",
    "def calc_grad(x, y, theta, lamb=0):\n",
    "    #import pdb; pdb.set_trace()\n",
    "    cor_theta = theta.copy()\n",
    "    m = x.shape[0]  # number of training examples\n",
    "    h = np.dot(x, theta)  # predicted y values\n",
    "    cor_theta[0] = 0  # theta_0 does not count for regularization\n",
    "    grad = np.dot(x.T, (np.subtract(h, y)))/m + (lamb/m) * cor_theta\n",
    "    return grad\n",
    "\n",
    "\n",
    "def cost(x, y, theta, lamb=0):\n",
    "    #import pdb; pdb.set_trace()\n",
    "    cor_theta = theta.copy()\n",
    "    m = x.shape[0]  # number of training examples\n",
    "    h = np.dot(x, theta)  # predicted y values\n",
    "    cor_theta[0] = 0  # theta_0 does not count for regularization\n",
    "    j = np.sum((np.subtract(h, y) ** 2))/(2*m) + (lamb/(2*m)) * sum(cor_theta**2)\n",
    "    return j\n",
    "    \n",
    "\n",
    "def normal_equation(train_x, train_y, lamb):\n",
    "    # normal equation\n",
    "    reg = np.zeros((train_x.shape[1], train_x.shape[1]))\n",
    "    np.fill_diagonal(reg, 1)\n",
    "    reg[0, 0] = 0\n",
    "    reg = lamb * reg\n",
    "    theta = np.dot(np.dot(np.linalg.pinv(np.dot(train_x.T, train_x) + reg),\n",
    "                          train_x.T), train_y)\n",
    "    return theta\n",
    "\n",
    "                  \n",
    "def gradient_descent(x, y, lamb):\n",
    "    initial_theta = np.ones(x.shape[1]) * 0.1\n",
    "    cf = lambda t: cost(x, y, t, lamb)\n",
    "    cf_grad = lambda t: calc_grad(x, y, t, lamb)\n",
    "    theta = scipy.optimize.fmin_cg(cf, initial_theta, cf_grad)\n",
    "    return theta\n",
    "                  \n",
    "\n",
    "def train_parameters(train_x, train_y, cv_x, cv_y):\n",
    "    # choose lambda\n",
    "    lambdas = [0, 0.001, 0.003, 0.01, 0.03, 0.1, 0.3, 1, 3, 10]\n",
    "    train_errors, cv_errors = [], []\n",
    "    # train = normal_equation if train_x.shape[1] < 1000 else gradient_descent\n",
    "    train = gradient_descent\n",
    "    for lamb in lambdas:\n",
    "        theta = train(train_x, train_y, lamb)\n",
    "        train_error = cost(train_x, train_y, theta)\n",
    "        train_errors.append(train_error)\n",
    "        cv_error = cost(cv_x, cv_y, theta)\n",
    "        cv_errors.append(cv_error)\n",
    "    print(train_errors)\n",
    "    print(cv_errors)\n",
    "\n",
    "\n",
    "def learning_curve(train_x, train_y, cv_x, cv_y, lamb=0):\n",
    "    \"\"\"Plot learning curve -> change in training & cv error\"\"\"\n",
    "    train_errors, cv_errors = [], []\n",
    "    #train = normal_equation if train_x.shape[1] < 1000 else gradient_descent\n",
    "    train = gradient_descent\n",
    "    for n in range(1 if len(train_x) < 20 else len(train_x)// 20,\n",
    "                   len(train_x),\n",
    "                   len(train_x)//20 if len(train_x) > 20 else 1):\n",
    "        theta = train(train_x[:n], train_y[:n], lamb)\n",
    "        train_error = cost(train_x[:n], train_y[:n], theta)\n",
    "        train_errors.append(train_error)\n",
    "        cv_error = cost(cv_x, cv_y, theta)\n",
    "        cv_errors.append(cv_error)\n",
    "    plt.figure()\n",
    "    plt.plot(train_errors)\n",
    "    plt.plot(cv_errors)\n",
    "    plt.legend((\"train\", \"cv\"))\n",
    "\n",
    "\n",
    "def scale(x):\n",
    "    mu = x.mean(axis=0)\n",
    "    x = x - mu\n",
    "    sigma = x.std(axis=0)\n",
    "    x = x/sigma\n",
    "    return x, mu, sigma\n",
    "\n",
    "def add_polynoms(x):\n",
    "    #import pdb; pdb.set_trace()\n",
    "    old_x = x.copy()\n",
    "    for i in [0.5, 2, 3]:\n",
    "        x = np.append(x, old_x**i, axis=1)\n",
    "    return x\n",
    "\n",
    "\n",
    "def fit_params(x, y):\n",
    "    \"\"\"Fit a linear regression to predict response vector y from feature matrix x.\n",
    "    \"\"\"\n",
    "    x, y = x.as_matrix(), y.as_matrix()\n",
    "    # add polymonial features\n",
    "    # feature scaling\n",
    "    x, mu, s = scale(x)\n",
    "    #x = add_polynoms(x)\n",
    "    # first: randomize order\n",
    "    len_x, len_y = x.shape[0], y.shape[0]\n",
    "    x = np.insert(x, 0, 1, axis=1)\n",
    "    if len_x != len_y:\n",
    "        raise ValueError(\"Error: features x and response y have different lengths\")\n",
    "    #x, y = randomize(x, y, len_x)\n",
    "    # second: separate into training, cv, and test set\n",
    "    div1, div2 = math.floor(len_x * 0.6), math.floor(len_x * 0.8)\n",
    "    train_x, train_y = x[:div1], y[:div1]\n",
    "    cv_x, cv_y = x[div1:div2], y[div1:div2]\n",
    "    test_x, test_y = x[div2:], y[div2:]\n",
    "    learning_curve(train_x, train_y, cv_x, cv_y)\n",
    "    theta = train_parameters(train_x, train_y, cv_x, cv_y)\n"
   ]
  },
  {
   "cell_type": "code",
   "execution_count": 103,
   "metadata": {
    "autoscroll": false,
    "ein.tags": "worksheet-0",
    "slideshow": {
     "slide_type": "-"
    }
   },
   "outputs": [
    {
     "name": "stdout",
     "output_type": "stream",
     "text": [
      "Optimization terminated successfully.\n",
      "         Current function value: 4479991.727254\n",
      "         Iterations: 26\n",
      "         Function evaluations: 46\n",
      "         Gradient evaluations: 46\n",
      "Optimization terminated successfully.\n",
      "         Current function value: 4441260.646082\n",
      "         Iterations: 8\n",
      "         Function evaluations: 19\n",
      "         Gradient evaluations: 19\n",
      "Optimization terminated successfully.\n",
      "         Current function value: 8043159.381668\n",
      "         Iterations: 23\n",
      "         Function evaluations: 48\n",
      "         Gradient evaluations: 48\n",
      "Optimization terminated successfully.\n",
      "         Current function value: 7057580.535237\n",
      "         Iterations: 25\n",
      "         Function evaluations: 47\n",
      "         Gradient evaluations: 47\n",
      "Optimization terminated successfully.\n",
      "         Current function value: 8243705.684873\n",
      "         Iterations: 21\n",
      "         Function evaluations: 41\n",
      "         Gradient evaluations: 41\n",
      "Warning: Desired error not necessarily achieved due to precision loss.\n",
      "         Current function value: 7842113.219570\n",
      "         Iterations: 18\n",
      "         Function evaluations: 41\n",
      "         Gradient evaluations: 30\n",
      "Optimization terminated successfully.\n",
      "         Current function value: 7511375.852290\n",
      "         Iterations: 20\n",
      "         Function evaluations: 35\n",
      "         Gradient evaluations: 35\n",
      "Warning: Desired error not necessarily achieved due to precision loss.\n",
      "         Current function value: 7298717.633638\n",
      "         Iterations: 19\n",
      "         Function evaluations: 28\n",
      "         Gradient evaluations: 27\n",
      "Warning: Desired error not necessarily achieved due to precision loss.\n",
      "         Current function value: 7114628.696741\n",
      "         Iterations: 8\n",
      "         Function evaluations: 30\n",
      "         Gradient evaluations: 18\n",
      "Warning: Desired error not necessarily achieved due to precision loss.\n",
      "         Current function value: 6912458.956318\n",
      "         Iterations: 8\n",
      "         Function evaluations: 31\n",
      "         Gradient evaluations: 19\n",
      "Optimization terminated successfully.\n",
      "         Current function value: 6871060.542540\n",
      "         Iterations: 18\n",
      "         Function evaluations: 30\n",
      "         Gradient evaluations: 30\n",
      "Warning: Desired error not necessarily achieved due to precision loss.\n",
      "         Current function value: 6748954.348970\n",
      "         Iterations: 8\n",
      "         Function evaluations: 29\n",
      "         Gradient evaluations: 17\n",
      "Warning: Desired error not necessarily achieved due to precision loss.\n",
      "         Current function value: 6655484.087870\n",
      "         Iterations: 12\n",
      "         Function evaluations: 33\n",
      "         Gradient evaluations: 21\n",
      "Warning: Desired error not necessarily achieved due to precision loss.\n",
      "         Current function value: 6570761.482336\n",
      "         Iterations: 15\n",
      "         Function evaluations: 75\n",
      "         Gradient evaluations: 63\n",
      "Warning: Desired error not necessarily achieved due to precision loss.\n",
      "         Current function value: 6478312.042170\n",
      "         Iterations: 22\n",
      "         Function evaluations: 93\n",
      "         Gradient evaluations: 81\n",
      "Optimization terminated successfully.\n",
      "         Current function value: 6413483.932346\n",
      "         Iterations: 14\n",
      "         Function evaluations: 23\n",
      "         Gradient evaluations: 23\n",
      "Warning: Desired error not necessarily achieved due to precision loss.\n",
      "         Current function value: 6352618.371482\n",
      "         Iterations: 6\n",
      "         Function evaluations: 26\n",
      "         Gradient evaluations: 14\n",
      "Warning: Desired error not necessarily achieved due to precision loss.\n",
      "         Current function value: 6316043.119898\n",
      "         Iterations: 6\n",
      "         Function evaluations: 26\n",
      "         Gradient evaluations: 14\n",
      "Optimization terminated successfully.\n",
      "         Current function value: 6259332.922562\n",
      "         Iterations: 18\n",
      "         Function evaluations: 32\n",
      "         Gradient evaluations: 32\n",
      "Warning: Desired error not necessarily achieved due to precision loss.\n",
      "         Current function value: 6235468.532219\n",
      "         Iterations: 21\n",
      "         Function evaluations: 29\n",
      "         Gradient evaluations: 28\n",
      "Optimization terminated successfully.\n",
      "         Current function value: 6235137.729033\n",
      "         Iterations: 22\n",
      "         Function evaluations: 29\n",
      "         Gradient evaluations: 29\n",
      "Warning: Desired error not necessarily achieved due to precision loss.\n",
      "         Current function value: 6235138.266533\n",
      "         Iterations: 21\n",
      "         Function evaluations: 84\n",
      "         Gradient evaluations: 72\n",
      "Optimization terminated successfully.\n",
      "         Current function value: 6235139.341532\n",
      "         Iterations: 22\n",
      "         Function evaluations: 29\n",
      "         Gradient evaluations: 29\n",
      "Warning: Desired error not necessarily achieved due to precision loss.\n",
      "         Current function value: 6235143.104027\n",
      "         Iterations: 21\n",
      "         Function evaluations: 75\n",
      "         Gradient evaluations: 63\n",
      "Optimization terminated successfully.\n",
      "         Current function value: 6235153.853999\n",
      "         Iterations: 22\n",
      "         Function evaluations: 29\n",
      "         Gradient evaluations: 29\n",
      "Warning: Desired error not necessarily achieved due to precision loss.\n",
      "         Current function value: 6235191.478729\n",
      "         Iterations: 21\n",
      "         Function evaluations: 89\n",
      "         Gradient evaluations: 78\n",
      "Warning: Desired error not necessarily achieved due to precision loss.\n",
      "         Current function value: 6235298.976496\n",
      "         Iterations: 21\n",
      "         Function evaluations: 29\n",
      "         Gradient evaluations: 28\n",
      "Optimization terminated successfully.\n",
      "         Current function value: 6235675.201632\n",
      "         Iterations: 22\n",
      "         Function evaluations: 29\n",
      "         Gradient evaluations: 29\n",
      "Warning: Desired error not necessarily achieved due to precision loss.\n",
      "         Current function value: 6236749.984482\n",
      "         Iterations: 21\n",
      "         Function evaluations: 71\n",
      "         Gradient evaluations: 59\n",
      "Warning: Desired error not necessarily achieved due to precision loss.\n",
      "         Current function value: 6240510.020747\n",
      "         Iterations: 21\n",
      "         Function evaluations: 29\n",
      "         Gradient evaluations: 28\n",
      "[6235137.7290333128, 6235137.7290333426, 6235137.7290335558, 6235137.729036049, 6235137.7290576622, 6235137.7293042494, 6235137.731469864, 6235137.756093598, 6235137.9725331888, 6235140.432459645]\n",
      "[5770500.4500944922, 5770500.5174199296, 5770500.6420919113, 5770501.093414044, 5770502.3700906578, 5770506.8535973476, 5770519.6555844974, 5770564.4762576977, 5770692.6938935248, 5771143.1477970416]\n"
     ]
    },
    {
     "data": {
      "image/png": "[encoded data removed]",
      "text/plain": [
       "<matplotlib.figure.Figure at 0x7f2d42997828>"
      ]
     },
     "metadata": {},
     "output_type": "display_data"
    }
   ],
   "source": [
    "# try to fit model\n",
    "fit_params(cars[cars.model==\"golf\"].loc[:, (\"powerPS\", \"kilometer\", \"age\")], cars.price[cars.model==\"golf\"])"
   ]
  },
  {
   "cell_type": "code",
   "execution_count": 13,
   "metadata": {},
   "outputs": [
    {
     "name": "stdout",
     "output_type": "stream",
     "text": [
      "[9098398.3775719255, 9098398.3988635354, 9098398.5687961429, 9098400.4868305102, 9098416.9718291946, 9098590.8619194534, 9099832.379682716, 9107643.3115832768, 9128716.580684524, 9171559.1681712363]\n",
      "[33883438.350964755, 33883513.407945976, 33883663.297886319, 33884185.572185993, 33885658.010674044, 33890591.546619922, 33903040.524464712, 33933652.81191057, 33975171.015049942, 34027842.543601006]\n"
     ]
    }
   ],
   "source": [
    "fit_params(cars[cars.model==\"3er\"].loc[:, (\"powerPS\", \"kilometer\", \"age\")], cars.price[cars.model==\"3er\"])"
   ]
  },
  {
   "cell_type": "code",
   "execution_count": 108,
   "metadata": {
    "autoscroll": false,
    "ein.tags": "worksheet-0",
    "slideshow": {
     "slide_type": "-"
    }
   },
   "outputs": [
    {
     "name": "stdout",
     "output_type": "stream",
     "text": [
      "Warning: Desired error not necessarily achieved due to precision loss.\n",
      "         Current function value: 2865950.658241\n",
      "         Iterations: 2\n",
      "         Function evaluations: 24\n",
      "         Gradient evaluations: 12\n",
      "Optimization terminated successfully.\n",
      "         Current function value: 0.000000\n",
      "         Iterations: 2\n",
      "         Function evaluations: 14\n",
      "         Gradient evaluations: 14\n",
      "Warning: Desired error not necessarily achieved due to precision loss.\n",
      "         Current function value: 223645487.134351\n",
      "         Iterations: 14\n",
      "         Function evaluations: 112\n",
      "         Gradient evaluations: 102\n",
      "Optimization terminated successfully.\n",
      "         Current function value: 167734115.350763\n",
      "         Iterations: 3\n",
      "         Function evaluations: 16\n",
      "         Gradient evaluations: 16\n",
      "Optimization terminated successfully.\n",
      "         Current function value: 144035955.813954\n",
      "         Iterations: 26\n",
      "         Function evaluations: 52\n",
      "         Gradient evaluations: 52\n",
      "Warning: Desired error not necessarily achieved due to precision loss.\n",
      "         Current function value: 723927693.211918\n",
      "         Iterations: 17\n",
      "         Function evaluations: 117\n",
      "         Gradient evaluations: 105\n",
      "Warning: Desired error not necessarily achieved due to precision loss.\n",
      "         Current function value: 729609636.997392\n",
      "         Iterations: 18\n",
      "         Function evaluations: 146\n",
      "         Gradient evaluations: 133\n",
      "Warning: Desired error not necessarily achieved due to precision loss.\n",
      "         Current function value: 838794245.127533\n",
      "         Iterations: 8\n",
      "         Function evaluations: 33\n",
      "         Gradient evaluations: 21\n",
      "Warning: Desired error not necessarily achieved due to precision loss.\n",
      "         Current function value: 775680423.320246\n",
      "         Iterations: 10\n",
      "         Function evaluations: 36\n",
      "         Gradient evaluations: 24\n",
      "Warning: Desired error not necessarily achieved due to precision loss.\n",
      "         Current function value: 703026314.802328\n",
      "         Iterations: 22\n",
      "         Function evaluations: 83\n",
      "         Gradient evaluations: 72\n",
      "Optimization terminated successfully.\n",
      "         Current function value: 856041441.385530\n",
      "         Iterations: 3\n",
      "         Function evaluations: 15\n",
      "         Gradient evaluations: 15\n",
      "Optimization terminated successfully.\n",
      "         Current function value: 784789875.776428\n",
      "         Iterations: 3\n",
      "         Function evaluations: 15\n",
      "         Gradient evaluations: 15\n",
      "Optimization terminated successfully.\n",
      "         Current function value: 725934409.757894\n",
      "         Iterations: 3\n",
      "         Function evaluations: 15\n",
      "         Gradient evaluations: 15\n",
      "Warning: Desired error not necessarily achieved due to precision loss.\n",
      "         Current function value: 725576652.393674\n",
      "         Iterations: 20\n",
      "         Function evaluations: 45\n",
      "         Gradient evaluations: 44\n",
      "Warning: Desired error not necessarily achieved due to precision loss.\n",
      "         Current function value: 756638577.216352\n",
      "         Iterations: 7\n",
      "         Function evaluations: 34\n",
      "         Gradient evaluations: 22\n",
      "Warning: Desired error not necessarily achieved due to precision loss.\n",
      "         Current function value: 902673541.962296\n",
      "         Iterations: 20\n",
      "         Function evaluations: 50\n",
      "         Gradient evaluations: 39\n",
      "Optimization terminated successfully.\n",
      "         Current function value: 905492583.745926\n",
      "         Iterations: 3\n",
      "         Function evaluations: 15\n",
      "         Gradient evaluations: 15\n",
      "Warning: Desired error not necessarily achieved due to precision loss.\n",
      "         Current function value: 863671056.472080\n",
      "         Iterations: 17\n",
      "         Function evaluations: 49\n",
      "         Gradient evaluations: 38\n",
      "Warning: Desired error not necessarily achieved due to precision loss.\n",
      "         Current function value: 946132363.970982\n",
      "         Iterations: 11\n",
      "         Function evaluations: 39\n",
      "         Gradient evaluations: 27\n",
      "Warning: Desired error not necessarily achieved due to precision loss.\n",
      "         Current function value: 1076659749.798732\n",
      "         Iterations: 28\n",
      "         Function evaluations: 62\n",
      "         Gradient evaluations: 50\n",
      "Warning: Desired error not necessarily achieved due to precision loss.\n",
      "         Current function value: 1115728249.104597\n",
      "         Iterations: 7\n",
      "         Function evaluations: 31\n",
      "         Gradient evaluations: 19\n",
      "Warning: Desired error not necessarily achieved due to precision loss.\n",
      "         Current function value: 2304979102.398428\n",
      "         Iterations: 2\n",
      "         Function evaluations: 24\n",
      "         Gradient evaluations: 12\n",
      "Warning: Desired error not necessarily achieved due to precision loss.\n",
      "         Current function value: 1199485262.549436\n",
      "         Iterations: 25\n",
      "         Function evaluations: 122\n",
      "         Gradient evaluations: 111\n",
      "Warning: Desired error not necessarily achieved due to precision loss.\n",
      "         Current function value: 1248795426.277204\n",
      "         Iterations: 7\n",
      "         Function evaluations: 31\n",
      "         Gradient evaluations: 19\n",
      "Warning: Desired error not necessarily achieved due to precision loss.\n",
      "         Current function value: 1310433353.314864\n",
      "         Iterations: 16\n",
      "         Function evaluations: 70\n",
      "         Gradient evaluations: 59\n",
      "Warning: Desired error not necessarily achieved due to precision loss.\n",
      "         Current function value: 1311260126.301331\n",
      "         Iterations: 13\n",
      "         Function evaluations: 29\n",
      "         Gradient evaluations: 28\n",
      "Warning: Desired error not necessarily achieved due to precision loss.\n",
      "         Current function value: 2030043503.223381\n",
      "         Iterations: 19\n",
      "         Function evaluations: 44\n",
      "         Gradient evaluations: 43\n",
      "Warning: Desired error not necessarily achieved due to precision loss.\n",
      "         Current function value: 1997003787.361052\n",
      "         Iterations: 21\n",
      "         Function evaluations: 171\n",
      "         Gradient evaluations: 158\n",
      "Warning: Desired error not necessarily achieved due to precision loss.\n",
      "         Current function value: 1997241239.591948\n",
      "         Iterations: 18\n",
      "         Function evaluations: 36\n",
      "         Gradient evaluations: 35\n",
      "Warning: Desired error not necessarily achieved due to precision loss.\n",
      "         Current function value: 1997716067.070393\n",
      "         Iterations: 18\n",
      "         Function evaluations: 65\n",
      "         Gradient evaluations: 64\n",
      "Warning: Desired error not necessarily achieved due to precision loss.\n",
      "         Current function value: 1999377155.572500\n",
      "         Iterations: 22\n",
      "         Function evaluations: 51\n",
      "         Gradient evaluations: 40\n",
      "Warning: Desired error not necessarily achieved due to precision loss.\n",
      "         Current function value: 2004116215.991750\n",
      "         Iterations: 19\n",
      "         Function evaluations: 58\n",
      "         Gradient evaluations: 46\n",
      "Warning: Desired error not necessarily achieved due to precision loss.\n",
      "         Current function value: 2020622974.265321\n",
      "         Iterations: 16\n",
      "         Function evaluations: 43\n",
      "         Gradient evaluations: 32\n",
      "Warning: Desired error not necessarily achieved due to precision loss.\n",
      "         Current function value: 2067115407.274916\n",
      "         Iterations: 24\n",
      "         Function evaluations: 105\n",
      "         Gradient evaluations: 92\n",
      "Warning: Desired error not necessarily achieved due to precision loss.\n",
      "         Current function value: 2222580777.472553\n",
      "         Iterations: 17\n",
      "         Function evaluations: 35\n",
      "         Gradient evaluations: 34\n",
      "Warning: Desired error not necessarily achieved due to precision loss.\n",
      "         Current function value: 3090458651.505414\n",
      "         Iterations: 2\n",
      "         Function evaluations: 24\n",
      "         Gradient evaluations: 12\n",
      "Warning: Desired error not necessarily achieved due to precision loss.\n",
      "         Current function value: 3626662703.169792\n",
      "         Iterations: 10\n",
      "         Function evaluations: 34\n",
      "         Gradient evaluations: 22\n",
      "[1997003787.3610516, 1997003800.193131, 1997003902.8148835, 1997005068.760392, 1997015283.0082917, 1997130085.254575, 1998105225.1685281, 2008027672.0920486, 2803749374.5496073, 2454676350.9717498]\n",
      "[2160817431.8841162, 2160891063.7565908, 2161038378.2900405, 2161554496.1058445, 2163033396.6249461, 2168257776.2030721, 2183562676.3110023, 2240332695.9801669, 3253871519.3635063, 2917269911.2038445]\n"
     ]
    },
    {
     "data": {
      "image/png": "[encoded data removed]",
      "text/plain": [
       "<matplotlib.figure.Figure at 0x7f2d419de2e8>"
      ]
     },
     "metadata": {},
     "output_type": "display_data"
    }
   ],
   "source": [
    "# test functions using old stuff\n",
    "df = pd.read_csv('/home/john/Dokumente/ml-course/ex1/ex1data2.txt', header=None)\n",
    "x = df.loc[:, (0, 1)]\n",
    "y = df.loc[:, (2)]\n",
    "fit_params(x, y)"
   ]
  },
  {
   "cell_type": "code",
   "execution_count": 107,
   "metadata": {
    "autoscroll": false,
    "ein.tags": "worksheet-0",
    "slideshow": {
     "slide_type": "-"
    }
   },
   "outputs": [
    {
     "name": "stdout",
     "output_type": "stream",
     "text": [
      "Optimization terminated successfully.\n",
      "         Current function value: 0.000000\n",
      "         Iterations: 1\n",
      "         Function evaluations: 3\n",
      "         Gradient evaluations: 3\n",
      "Optimization terminated successfully.\n",
      "         Current function value: 0.000000\n",
      "         Iterations: 2\n",
      "         Function evaluations: 6\n",
      "         Gradient evaluations: 6\n",
      "Optimization terminated successfully.\n",
      "         Current function value: 3.286595\n",
      "         Iterations: 25\n",
      "         Function evaluations: 39\n",
      "         Gradient evaluations: 39\n",
      "Optimization terminated successfully.\n",
      "         Current function value: 2.842678\n",
      "         Iterations: 4\n",
      "         Function evaluations: 8\n",
      "         Gradient evaluations: 8\n",
      "Optimization terminated successfully.\n",
      "         Current function value: 13.154049\n",
      "         Iterations: 2\n",
      "         Function evaluations: 5\n",
      "         Gradient evaluations: 5\n",
      "Optimization terminated successfully.\n",
      "         Current function value: 19.443963\n",
      "         Iterations: 2\n",
      "         Function evaluations: 5\n",
      "         Gradient evaluations: 5\n",
      "Optimization terminated successfully.\n",
      "         Current function value: 20.098522\n",
      "         Iterations: 2\n",
      "         Function evaluations: 5\n",
      "         Gradient evaluations: 5\n",
      "Optimization terminated successfully.\n",
      "         Current function value: 18.172859\n",
      "         Iterations: 2\n",
      "         Function evaluations: 5\n",
      "         Gradient evaluations: 5\n",
      "Optimization terminated successfully.\n",
      "         Current function value: 22.609405\n",
      "         Iterations: 2\n",
      "         Function evaluations: 5\n",
      "         Gradient evaluations: 5\n",
      "Optimization terminated successfully.\n",
      "         Current function value: 23.261462\n",
      "         Iterations: 29\n",
      "         Function evaluations: 59\n",
      "         Gradient evaluations: 59\n",
      "Optimization terminated successfully.\n",
      "         Current function value: 24.317250\n",
      "         Iterations: 25\n",
      "         Function evaluations: 51\n",
      "         Gradient evaluations: 51\n"
     ]
    },
    {
     "data": {
      "image/png": "[encoded data removed]",
      "text/plain": [
       "<matplotlib.figure.Figure at 0x7f2d42f6f5f8>"
      ]
     },
     "metadata": {},
     "output_type": "display_data"
    }
   ],
   "source": [
    "# test functions using old stuff\n",
    "import scipy.io as sio\n",
    "d = sio.loadmat('/home/john/Dokumente/ml-course/ex5/ex5data1.mat')\n",
    "X = np.insert(d[\"X\"], 0, 1, axis=1)\n",
    "Xval = np.insert(d[\"Xval\"], 0, 1, axis=1)\n",
    "cost(X, d[\"y\"].ravel(), np.array([1, 1]), 1)\n",
    "calc_grad(X, d[\"y\"].ravel(), np.array([1, 1]))\n",
    "learning_curve(X, d[\"y\"].ravel(), Xval, d[\"yval\"].ravel())\n",
    "#fit_params(x, y)"
   ]
  },
  {
   "cell_type": "code",
   "execution_count": null,
   "metadata": {
    "collapsed": true
   },
   "outputs": [],
   "source": []
  }
 ],
 "metadata": {
  "kernelspec": {
   "display_name": "Python 3",
   "language": "python",
   "name": "python3"
  },
  "language_info": {
   "codemirror_mode": {
    "name": "ipython",
    "version": 3
   },
   "file_extension": ".py",
   "mimetype": "text/x-python",
   "name": "python",
   "nbconvert_exporter": "python",
   "pygments_lexer": "ipython3",
   "version": "3.6.1"
  },
  "name": "car-prices.ipynb"
 },
 "nbformat": 4,
 "nbformat_minor": 2
}
